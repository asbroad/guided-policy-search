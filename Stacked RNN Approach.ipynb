{
 "metadata": {
  "name": "",
  "signature": "sha256:dceec2f0a5da4378855e3c2f8a447f771ffe7c0c3284110175678380ba7b0a00"
 },
 "nbformat": 3,
 "nbformat_minor": 0,
 "worksheets": [
  {
   "cells": [
    {
     "cell_type": "code",
     "collapsed": false,
     "input": [
      "% matplotlib inline\n",
      "import matplotlib.pyplot as plt\n",
      "import theano, theano.tensor as T\n",
      "import numpy as np\n",
      "from collections import OrderedDict\n",
      "import ipython_animations\n",
      "ipython_animations.enable_inline()\n",
      "\n",
      "from matplotlib.animation import FuncAnimation"
     ],
     "language": "python",
     "metadata": {},
     "outputs": [],
     "prompt_number": 2
    },
    {
     "cell_type": "code",
     "collapsed": false,
     "input": [
      "srng = theano.tensor.shared_randomstreams.RandomStreams(1234)\n",
      "\n",
      "def create_shared(out_size, in_size = None):\n",
      "    if in_size is None:\n",
      "        return theano.shared((np.random.standard_normal([out_size])* 1./out_size).astype(theano.config.floatX))\n",
      "    else:\n",
      "        return theano.shared((np.random.standard_normal([out_size, in_size])* 1./out_size).astype(theano.config.floatX))\n",
      "    \n",
      "def Dropout(x, prob):\n",
      "    \"\"\"p is the probablity of dropping a unit\n",
      "    \"\"\"\n",
      "    \n",
      "    mask = srng.binomial(n=1, p=1-prob, size=x.shape)\n",
      "    y = x * T.cast(mask, theano.config.floatX)\n",
      "    return y\n",
      "\n",
      "class Layer(object):\n",
      "    def __init__(self, input_size, hidden_size, activation):\n",
      "        self.input_size  = input_size\n",
      "        self.hidden_size = hidden_size\n",
      "        self.activation  = activation\n",
      "        self.is_recursive = False\n",
      "        self.create_variables()\n",
      "        \n",
      "    def create_variables(self):\n",
      "        self.params = []\n",
      "        self.linear_matrix        = create_shared(self.hidden_size, self.input_size)\n",
      "        self.bias_matrix          = create_shared(self.hidden_size)\n",
      "        self.params.append(self.linear_matrix)\n",
      "        self.params.append(self.bias_matrix)\n",
      "        \n",
      "    def activate(self, x):\n",
      "        return self.activation(\n",
      "            T.dot(self.linear_matrix, x) + self.bias_matrix )\n",
      "    \n",
      "class RNN(Layer):\n",
      "    def __init__(self, *args):\n",
      "        super().__init__(*args)\n",
      "        self.is_recursive = True\n",
      "        \n",
      "    def create_variables(self):\n",
      "        self.params = []\n",
      "        self.linear_matrix        = create_shared(self.hidden_size, self.input_size+ self.hidden_size)\n",
      "        self.bias_matrix          = create_shared(self.hidden_size)\n",
      "        self.params.append(self.linear_matrix)\n",
      "        self.params.append(self.bias_matrix)\n",
      "        self.initial_hidden_state = create_shared(self.hidden_size)\n",
      "        self.params.append(self.initial_hidden_state)\n",
      "        \n",
      "    def activate(self, x, h):\n",
      "        return self.activation(\n",
      "            T.dot(\n",
      "                self.linear_matrix,\n",
      "                T.concatenate([x, h])\n",
      "            ) + self.bias_matrix )\n",
      "\n",
      "class StackedRNN(object):\n",
      "    def __init__(self, input_size, layers = [], activation = lambda x:x):\n",
      "        self.input_size = input_size\n",
      "        self.create_layers(layers, activation)\n",
      "        \n",
      "    def create_layers(self, layer_sizes, activation_type):\n",
      "        self.layers = []\n",
      "        prev_size   = self.input_size\n",
      "        for k, layer_size in enumerate(layer_sizes):\n",
      "            layer = RNN(prev_size, layer_size, activation_type)\n",
      "            self.layers.append(layer)\n",
      "            prev_size = layer_size\n",
      "    \n",
      "    @property\n",
      "    def params(self):\n",
      "        return [param for layer in self.layers for param in layer.params] \n",
      "            \n",
      "    def forward(self, x, prev_hiddens = None, dropout = 0.0):\n",
      "        \"\"\"\n",
      "        Return new hidden activations for all stacked RNNs\n",
      "        \"\"\"\n",
      "        \n",
      "        if prev_hiddens is None:\n",
      "            prev_hiddens = [layer.initial_hidden_state for layer in self.layers if hasattr(layer, 'initial_hidden_state')]\n",
      "        \n",
      "        out = []\n",
      "        layer_input = x\n",
      "        for k, layer in enumerate(self.layers):\n",
      "            if dropout > 0 and k > 0:\n",
      "                layer_input = Dropout(layer_input, dropout)\n",
      "            if layer.is_recursive:\n",
      "                layer_input = layer.activate(layer_input, prev_hiddens[k])\n",
      "            else:\n",
      "                layer_input = layer.activate(layer_input)\n",
      "            out.append(layer_input)\n",
      "        return out\n",
      "            \n",
      "    "
     ],
     "language": "python",
     "metadata": {},
     "outputs": [],
     "prompt_number": 3
    },
    {
     "cell_type": "code",
     "collapsed": false,
     "input": [
      "G = 9.8\n",
      "L1 = 1.0\n",
      "L2 = 2.0\n",
      "M1 = 1.0\n",
      "M2 = 1.0\n",
      "dt = 0.1\n",
      "\n",
      "def animate_trajectory(y, N_FRAMES = 100):\n",
      "    time_range = np.arange(0, y.shape[0]*dt, dt)\n",
      "\n",
      "    x1 = L1*np.sin(y[:,0])\n",
      "    y1 = -L1*np.cos(y[:,0])\n",
      "\n",
      "    x2 = L2*np.sin(y[:,2]) + x1\n",
      "    y2 = -L2*np.cos(y[:,2]) + y1\n",
      "\n",
      "    pen_len = L1 + L2\n",
      "\n",
      "    fig = plt.figure()\n",
      "\n",
      "    halfxlim = pen_len + 0.1\n",
      "\n",
      "    ax = fig.add_subplot(111, autoscale_on=False, xlim=(-halfxlim, halfxlim), ylim=(-halfxlim, halfxlim))\n",
      "    ax.grid()\n",
      "\n",
      "    line, = ax.plot([], [], 'o-', lw=2)\n",
      "    time_template = 'time = %.1fs'\n",
      "    time_text = ax.text(0.05, 0.9, '', transform=ax.transAxes)\n",
      "\n",
      "    N_FRAMES = min(N_FRAMES, y.shape[0])\n",
      "    total_time = time_range[-1]\n",
      "    draw_interval = float(total_time)/N_FRAMES\n",
      "    samples_per_timeframe = int(y.shape[0]/N_FRAMES)\n",
      "    def init():\n",
      "        line.set_data([], [])\n",
      "        time_text.set_text('')\n",
      "        return line, time_text\n",
      "\n",
      "    def animate(frame):\n",
      "        i = frame*samples_per_timeframe\n",
      "        thisx = [0, x1[i], x2[i]]\n",
      "        thisy = [0, y1[i], y2[i]]\n",
      "        dt = time_range[i] - time_range[i-1]\n",
      "\n",
      "        line.set_data(thisx, thisy)\n",
      "        time_text.set_text(time_template % time_range[i])\n",
      "\n",
      "        return line, time_text\n",
      "\n",
      "    ani = FuncAnimation(fig, animate, np.arange(0, N_FRAMES,1),\n",
      "        interval=4.0 * draw_interval, blit=True, init_func=init)\n",
      "\n",
      "    return ani\n",
      "\n",
      "def dynamics(x, u):\n",
      "\n",
      "    dydx = T.alloc(0.0, 4)\n",
      "\n",
      "    dydx = T.set_subtensor(dydx[0], x[1])\n",
      "\n",
      "    del_ = x[2]-x[0]\n",
      "\n",
      "    den1 = (M1+M2)*L1 - M2*L1*T.cos(del_)*T.cos(del_)\n",
      "\n",
      "    dydx = T.set_subtensor(dydx[1],\n",
      "        (  M2*L1      *  x[1] * x[1] * T.sin(del_) * T.cos(del_)\n",
      "           + M2*G       *  T.sin(x[2]) * T.cos(del_) +\n",
      "             M2*L2      *  x[3] * x[3] * T.sin(del_)\n",
      "           - (M1+M2)*G  *  T.sin(x[0]))/den1 )\n",
      "\n",
      "\n",
      "    dydx = T.set_subtensor(dydx[2], x[3])\n",
      "\n",
      "    den2 = (L2/L1)*den1\n",
      "    dydx = T.set_subtensor(dydx[3], (-M2*L2        *   x[3]*x[3]*T.sin(del_)*T.cos(del_)\n",
      "               + (M1+M2)*G   *   T.sin(x[0])*T.cos(del_)\n",
      "               - (M1+M2)*L1  *   x[1]*x[1]*T.sin(del_)\n",
      "               - (M1+M2)*G   *   T.sin(x[2]))/den2  + u )\n",
      "    return x + dydx * dt\n",
      "\n"
     ],
     "language": "python",
     "metadata": {},
     "outputs": [],
     "prompt_number": 95
    },
    {
     "cell_type": "code",
     "collapsed": false,
     "input": [
      "optimization = 'adadelta'\n",
      "\n",
      "stacked_rnn = StackedRNN(4, [20, 20], T.tanh)\n",
      "stacked_rnn.layers[0].activation = lambda x: x\n",
      "stacked_rnn.layers.append(Layer(20, 2, lambda x: T.nnet.softmax(x)[0]))\n",
      "\n",
      "def Bound(policy_bounds):\n",
      "    u_min, u_max = policy_bounds\n",
      "    return lambda u: (u_min * u[0]) + (u_max * u[1])\n",
      "\n",
      "to_output = Bound((-40, 40))\n",
      "\n",
      "dropout = 0.0\n",
      "\n",
      "def step(x, *prev_hiddens):\n",
      "    new_states = stacked_rnn.forward(x, prev_hiddens, dropout)\n",
      "    return [dynamics(x, to_output(new_states[-1]))] + new_states[:-1]\n",
      "\n",
      "\n",
      "\n",
      "initial_obs = T.vector()\n",
      "timesteps = T.iscalar()\n",
      "\n",
      "result, updates = theano.scan(step,\n",
      "                              n_steps=timesteps,\n",
      "                              outputs_info=[dict(initial=initial_obs, taps=[-1])] + [dict(initial=layer.initial_hidden_state, taps=[-1]) for layer in stacked_rnn.layers if hasattr(layer, 'initial_hidden_state')])\n",
      "\n",
      "target = T.vector()\n",
      "\n",
      "lr = theano.shared(np.float64(0.01).astype(theano.config.floatX))\n",
      "eps = np.float64(1e-6).astype(theano.config.floatX)\n",
      "rho = np.float64(0.95).astype(theano.config.floatX)\n",
      "\n",
      "cost = (result[0][:,[0,2]] - target[[0,2]]).norm(L=2)\n",
      "\n",
      "gsums   = [theano.shared(np.zeros_like(param.get_value(borrow=True))) if (optimization == 'adadelta' or optimization == 'adagrad') else None for param in stacked_rnn.params]\n",
      "xsums   = [theano.shared(np.zeros_like(param.get_value(borrow=True))) if optimization == 'adadelta' else None for param in stacked_rnn.params]\n",
      "\n",
      "gparams = T.grad(cost, stacked_rnn.params)\n",
      "updates = OrderedDict()\n",
      "\n",
      "for gparam, param, gsum, xsum in zip(gparams, stacked_rnn.params, gsums, xsums):\n",
      "    if optimization == 'adadelta':\n",
      "        updates[gsum] = T.cast(rho * gsum + (1. - rho) * (gparam **2), theano.config.floatX)\n",
      "        dparam = -T.sqrt((xsum + eps) / (updates[gsum] + eps)) * gparam\n",
      "        updates[xsum] = T.cast(rho * xsum + (1. - rho) * (dparam **2), theano.config.floatX)\n",
      "        updates[param] = T.cast(param + dparam, theano.config.floatX)\n",
      "    elif optimization == 'adagrad':\n",
      "        updates[gsum] =  T.cast(gsum + (gparam ** 2), theano.config.floatX)\n",
      "        updates[param] =  T.cast(param - lr * (gparam / (T.sqrt(updates[gsum] + eps))), theano.config.floatX)\n",
      "    else:\n",
      "        updates[param] = param - gparam * lr\n",
      "\n",
      "update_fun = theano.function([initial_obs, target, timesteps], cost, updates = updates, allow_input_downcast=True)\n",
      "predict_fun = theano.function([initial_obs, timesteps], result[0], allow_input_downcast=True)"
     ],
     "language": "python",
     "metadata": {},
     "outputs": [],
     "prompt_number": 78
    },
    {
     "cell_type": "code",
     "collapsed": false,
     "input": [
      "init_state = np.array([np.pi, 0.0, np.pi, 0.0])\n",
      "goal_state = np.array([np.pi, 0.0, np.pi, 0.0])\n",
      "def perturb(state):\n",
      "    return state + np.array([np.random.uniform(-np.pi,np.pi), np.random.randn(), np.random.uniform(-np.pi,np.pi), np.random.randn()])\n",
      "c = 0.0\n",
      "MAX_ITERS = 60000\n",
      "for iter in range(MAX_ITERS):\n",
      "    if iter > 0 and iter % (MAX_ITERS / 50) == 0:\n",
      "        print(\"epoch %d , cost %.3f\" % (iter, c))\n",
      "        c = 0.\n",
      "    c += update_fun(perturb(init_state), goal_state, 10)"
     ],
     "language": "python",
     "metadata": {},
     "outputs": [
      {
       "output_type": "stream",
       "stream": "stdout",
       "text": [
        "epoch 1200 , cost 58405.211\n",
        "epoch 2400 , cost 40519.579"
       ]
      },
      {
       "output_type": "stream",
       "stream": "stdout",
       "text": [
        "\n",
        "epoch 3600 , cost 468846.449"
       ]
      },
      {
       "output_type": "stream",
       "stream": "stdout",
       "text": [
        "\n",
        "epoch 4800 , cost 1393086.253"
       ]
      },
      {
       "output_type": "stream",
       "stream": "stdout",
       "text": [
        "\n",
        "epoch 6000 , cost 26374.553"
       ]
      },
      {
       "output_type": "stream",
       "stream": "stdout",
       "text": [
        "\n",
        "epoch 7200 , cost 16860.999"
       ]
      },
      {
       "output_type": "stream",
       "stream": "stdout",
       "text": [
        "\n",
        "epoch 8400 , cost 54939.751"
       ]
      },
      {
       "output_type": "stream",
       "stream": "stdout",
       "text": [
        "\n",
        "epoch 9600 , cost 10294.924"
       ]
      },
      {
       "output_type": "stream",
       "stream": "stdout",
       "text": [
        "\n",
        "epoch 10800 , cost 9576.530"
       ]
      },
      {
       "output_type": "stream",
       "stream": "stdout",
       "text": [
        "\n",
        "epoch 12000 , cost 33698486385.352"
       ]
      },
      {
       "output_type": "stream",
       "stream": "stdout",
       "text": [
        "\n",
        "epoch 13200 , cost 5490815150.114"
       ]
      },
      {
       "output_type": "stream",
       "stream": "stdout",
       "text": [
        "\n",
        "epoch 14400 , cost 7417080667.973"
       ]
      },
      {
       "output_type": "stream",
       "stream": "stdout",
       "text": [
        "\n",
        "epoch 15600 , cost 162112167613.584"
       ]
      },
      {
       "output_type": "stream",
       "stream": "stdout",
       "text": [
        "\n",
        "epoch 16800 , cost 596277126236.385"
       ]
      },
      {
       "output_type": "stream",
       "stream": "stdout",
       "text": [
        "\n",
        "epoch 18000 , cost 20822266.632"
       ]
      },
      {
       "output_type": "stream",
       "stream": "stdout",
       "text": [
        "\n",
        "epoch 19200 , cost 12779.309"
       ]
      },
      {
       "output_type": "stream",
       "stream": "stdout",
       "text": [
        "\n",
        "epoch 20400 , cost 9562.175"
       ]
      },
      {
       "output_type": "stream",
       "stream": "stdout",
       "text": [
        "\n",
        "epoch 21600 , cost 3750154245.990"
       ]
      },
      {
       "output_type": "stream",
       "stream": "stdout",
       "text": [
        "\n",
        "epoch 22800 , cost 357690341.285"
       ]
      },
      {
       "output_type": "stream",
       "stream": "stdout",
       "text": [
        "\n",
        "epoch 24000 , cost 95951206634.956"
       ]
      },
      {
       "output_type": "stream",
       "stream": "stdout",
       "text": [
        "\n",
        "epoch 25200 , cost 869341671.909"
       ]
      },
      {
       "output_type": "stream",
       "stream": "stdout",
       "text": [
        "\n",
        "epoch 26400 , cost 4222482.704"
       ]
      },
      {
       "output_type": "stream",
       "stream": "stdout",
       "text": [
        "\n",
        "epoch 27600 , cost 375001.256"
       ]
      },
      {
       "output_type": "stream",
       "stream": "stdout",
       "text": [
        "\n",
        "epoch 28800 , cost 30342.854"
       ]
      },
      {
       "output_type": "stream",
       "stream": "stdout",
       "text": [
        "\n",
        "epoch 30000 , cost 19518.736"
       ]
      },
      {
       "output_type": "stream",
       "stream": "stdout",
       "text": [
        "\n",
        "epoch 31200 , cost 9967.807"
       ]
      },
      {
       "output_type": "stream",
       "stream": "stdout",
       "text": [
        "\n",
        "epoch 32400 , cost 9178.857"
       ]
      },
      {
       "output_type": "stream",
       "stream": "stdout",
       "text": [
        "\n",
        "epoch 33600 , cost 9476.920"
       ]
      },
      {
       "output_type": "stream",
       "stream": "stdout",
       "text": [
        "\n",
        "epoch 34800 , cost 8570.329"
       ]
      },
      {
       "output_type": "stream",
       "stream": "stdout",
       "text": [
        "\n",
        "epoch 36000 , cost 8683.609"
       ]
      },
      {
       "output_type": "stream",
       "stream": "stdout",
       "text": [
        "\n",
        "epoch 37200 , cost 8500.380"
       ]
      },
      {
       "output_type": "stream",
       "stream": "stdout",
       "text": [
        "\n",
        "epoch 38400 , cost 11088.317"
       ]
      },
      {
       "output_type": "stream",
       "stream": "stdout",
       "text": [
        "\n",
        "epoch 39600 , cost 8919.674"
       ]
      },
      {
       "output_type": "stream",
       "stream": "stdout",
       "text": [
        "\n",
        "epoch 40800 , cost 8236.637"
       ]
      },
      {
       "output_type": "stream",
       "stream": "stdout",
       "text": [
        "\n",
        "epoch 42000 , cost 8422.275"
       ]
      },
      {
       "output_type": "stream",
       "stream": "stdout",
       "text": [
        "\n",
        "epoch 43200 , cost 8347.669"
       ]
      },
      {
       "output_type": "stream",
       "stream": "stdout",
       "text": [
        "\n",
        "epoch 44400 , cost 8310.871"
       ]
      },
      {
       "output_type": "stream",
       "stream": "stdout",
       "text": [
        "\n",
        "epoch 45600 , cost 8290.542"
       ]
      },
      {
       "output_type": "stream",
       "stream": "stdout",
       "text": [
        "\n",
        "epoch 46800 , cost 9599.534"
       ]
      },
      {
       "output_type": "stream",
       "stream": "stdout",
       "text": [
        "\n",
        "epoch 48000 , cost 8097.226"
       ]
      },
      {
       "output_type": "stream",
       "stream": "stdout",
       "text": [
        "\n",
        "epoch 49200 , cost 8268.041"
       ]
      },
      {
       "output_type": "stream",
       "stream": "stdout",
       "text": [
        "\n",
        "epoch 50400 , cost 8068.665"
       ]
      },
      {
       "output_type": "stream",
       "stream": "stdout",
       "text": [
        "\n",
        "epoch 51600 , cost 8659.121"
       ]
      },
      {
       "output_type": "stream",
       "stream": "stdout",
       "text": [
        "\n",
        "epoch 52800 , cost 8198.945"
       ]
      },
      {
       "output_type": "stream",
       "stream": "stdout",
       "text": [
        "\n",
        "epoch 54000 , cost 7946.279"
       ]
      },
      {
       "output_type": "stream",
       "stream": "stdout",
       "text": [
        "\n",
        "epoch 55200 , cost 8206.720"
       ]
      },
      {
       "output_type": "stream",
       "stream": "stdout",
       "text": [
        "\n",
        "epoch 56400 , cost 7953.937"
       ]
      },
      {
       "output_type": "stream",
       "stream": "stdout",
       "text": [
        "\n",
        "epoch 57600 , cost 8033.059"
       ]
      },
      {
       "output_type": "stream",
       "stream": "stdout",
       "text": [
        "\n",
        "epoch 58800 , cost 7874.423"
       ]
      },
      {
       "output_type": "stream",
       "stream": "stdout",
       "text": [
        "\n"
       ]
      }
     ],
     "prompt_number": 79
    },
    {
     "cell_type": "code",
     "collapsed": false,
     "input": [
      "horizon = 200\n",
      "y = predict_fun(np.array([3.1415, 0.0, 3.1415, 0.2]), horizon)\n",
      "y[:,0] %= 2*np.pi\n",
      "y[:,2] %= 2*np.pi\n",
      "plt.plot(np.linspace(0, horizon * dt, horizon), y);\n",
      "plt.legend([r\"$\\theta_1$\", r\"$\\dot{\\theta}_1$\", r\"$\\theta_2$\", r\"$\\dot{\\theta}_2$\"]);"
     ],
     "language": "python",
     "metadata": {},
     "outputs": [
      {
       "metadata": {},
       "output_type": "display_data",
       "png": "[encoded data removed]",
       "text": [
        "<matplotlib.figure.Figure at 0x11d751978>"
       ]
      }
     ],
     "prompt_number": 86
    },
    {
     "cell_type": "code",
     "collapsed": false,
     "input": [],
     "language": "python",
     "metadata": {},
     "outputs": []
    }
   ],
   "metadata": {}
  }
 ]
}